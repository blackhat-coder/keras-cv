{
 "cells": [
  {
   "cell_type": "markdown",
   "metadata": {
    "id": "Hsa3v3hAUdnq"
   },
   "source": [
    "# Setup\n",
    "First we need to install keras_cv and import any packages we will use."
   ]
  },
  {
   "cell_type": "code",
   "execution_count": 1,
   "metadata": {
    "id": "2Dm1g2h9S1YV",
    "colab": {
     "base_uri": "https://localhost:8080/"
    },
    "outputId": "0a00adc7-8cce-4362-81e3-58e0e04cedf9"
   },
   "outputs": [
    {
     "output_type": "stream",
     "name": "stdout",
     "text": [
      "\u001b[?25l\r\u001b[K     |▊                               | 10 kB 19.9 MB/s eta 0:00:01\r\u001b[K     |█▍                              | 20 kB 8.5 MB/s eta 0:00:01\r\u001b[K     |██▏                             | 30 kB 5.4 MB/s eta 0:00:01\r\u001b[K     |██▉                             | 40 kB 5.2 MB/s eta 0:00:01\r\u001b[K     |███▌                            | 51 kB 4.8 MB/s eta 0:00:01\r\u001b[K     |████▎                           | 61 kB 5.7 MB/s eta 0:00:01\r\u001b[K     |█████                           | 71 kB 5.9 MB/s eta 0:00:01\r\u001b[K     |█████▊                          | 81 kB 5.3 MB/s eta 0:00:01\r\u001b[K     |██████▍                         | 92 kB 5.9 MB/s eta 0:00:01\r\u001b[K     |███████                         | 102 kB 6.5 MB/s eta 0:00:01\r\u001b[K     |███████▉                        | 112 kB 6.5 MB/s eta 0:00:01\r\u001b[K     |████████▌                       | 122 kB 6.5 MB/s eta 0:00:01\r\u001b[K     |█████████▏                      | 133 kB 6.5 MB/s eta 0:00:01\r\u001b[K     |██████████                      | 143 kB 6.5 MB/s eta 0:00:01\r\u001b[K     |██████████▋                     | 153 kB 6.5 MB/s eta 0:00:01\r\u001b[K     |███████████▍                    | 163 kB 6.5 MB/s eta 0:00:01\r\u001b[K     |████████████                    | 174 kB 6.5 MB/s eta 0:00:01\r\u001b[K     |████████████▊                   | 184 kB 6.5 MB/s eta 0:00:01\r\u001b[K     |█████████████▌                  | 194 kB 6.5 MB/s eta 0:00:01\r\u001b[K     |██████████████▏                 | 204 kB 6.5 MB/s eta 0:00:01\r\u001b[K     |██████████████▉                 | 215 kB 6.5 MB/s eta 0:00:01\r\u001b[K     |███████████████▋                | 225 kB 6.5 MB/s eta 0:00:01\r\u001b[K     |████████████████▎               | 235 kB 6.5 MB/s eta 0:00:01\r\u001b[K     |█████████████████               | 245 kB 6.5 MB/s eta 0:00:01\r\u001b[K     |█████████████████▊              | 256 kB 6.5 MB/s eta 0:00:01\r\u001b[K     |██████████████████▍             | 266 kB 6.5 MB/s eta 0:00:01\r\u001b[K     |███████████████████▏            | 276 kB 6.5 MB/s eta 0:00:01\r\u001b[K     |███████████████████▉            | 286 kB 6.5 MB/s eta 0:00:01\r\u001b[K     |████████████████████▌           | 296 kB 6.5 MB/s eta 0:00:01\r\u001b[K     |█████████████████████▎          | 307 kB 6.5 MB/s eta 0:00:01\r\u001b[K     |██████████████████████          | 317 kB 6.5 MB/s eta 0:00:01\r\u001b[K     |██████████████████████▊         | 327 kB 6.5 MB/s eta 0:00:01\r\u001b[K     |███████████████████████▍        | 337 kB 6.5 MB/s eta 0:00:01\r\u001b[K     |████████████████████████        | 348 kB 6.5 MB/s eta 0:00:01\r\u001b[K     |████████████████████████▉       | 358 kB 6.5 MB/s eta 0:00:01\r\u001b[K     |█████████████████████████▌      | 368 kB 6.5 MB/s eta 0:00:01\r\u001b[K     |██████████████████████████▏     | 378 kB 6.5 MB/s eta 0:00:01\r\u001b[K     |███████████████████████████     | 389 kB 6.5 MB/s eta 0:00:01\r\u001b[K     |███████████████████████████▋    | 399 kB 6.5 MB/s eta 0:00:01\r\u001b[K     |████████████████████████████▍   | 409 kB 6.5 MB/s eta 0:00:01\r\u001b[K     |█████████████████████████████   | 419 kB 6.5 MB/s eta 0:00:01\r\u001b[K     |█████████████████████████████▊  | 430 kB 6.5 MB/s eta 0:00:01\r\u001b[K     |██████████████████████████████▌ | 440 kB 6.5 MB/s eta 0:00:01\r\u001b[K     |███████████████████████████████▏| 450 kB 6.5 MB/s eta 0:00:01\r\u001b[K     |███████████████████████████████▉| 460 kB 6.5 MB/s eta 0:00:01\r\u001b[K     |████████████████████████████████| 462 kB 6.5 MB/s \n",
      "\u001b[?25h  Building wheel for keras-cv (setup.py) ... \u001b[?25l\u001b[?25hdone\n"
     ]
    }
   ],
   "source": [
    "!pip install git+https://github.com/keras-team/keras-cv -q"
   ]
  },
  {
   "cell_type": "code",
   "execution_count": 2,
   "metadata": {
    "id": "A68OHO5mTjdk"
   },
   "outputs": [],
   "source": [
    "import keras_cv\n",
    "from keras_cv.metrics import coco\n",
    "import tensorflow as tf\n",
    "import math\n",
    "import numpy as np\n",
    "import random"
   ]
  },
  {
   "cell_type": "markdown",
   "metadata": {
    "id": "dnhEcJZDVEyX"
   },
   "source": [
    "Next we need to produce random bounding boxes to benchmark against."
   ]
  },
  {
   "cell_type": "code",
   "execution_count": 3,
   "metadata": {
    "id": "pPckFSreToG6"
   },
   "outputs": [],
   "source": [
    "def produce_random_data(include_confidence=False, num_images=128, num_classes=20):\n",
    "    \"\"\"Generates a fake list of bounding boxes for use in this test.\n",
    "\n",
    "    Returns:\n",
    "      a tensor list of size [128, 25, 5/6].  This represents 128 images, 25 bboxes\n",
    "        and 5/6 dimensions to represent each bbox depending on if confidence is\n",
    "        set.\n",
    "    \"\"\"\n",
    "    images = []\n",
    "    for _ in range(num_images):\n",
    "        num_boxes = math.floor(25 * random.uniform(0, 1))\n",
    "        classes = np.floor(np.random.rand(num_boxes, 1) * num_classes)\n",
    "        bboxes = np.random.rand(num_boxes, 4)\n",
    "        boxes = np.concatenate([bboxes, classes], axis=-1)\n",
    "        if include_confidence:\n",
    "            confidence = np.random.rand(num_boxes, 1)\n",
    "            boxes = np.concatenate([boxes, confidence], axis=-1)\n",
    "        images.append(\n",
    "            keras_cv.utils.bounding_box.xywh_to_corners(\n",
    "                tf.constant(boxes, dtype=tf.float32)\n",
    "            )\n",
    "        )\n",
    "\n",
    "    images = [\n",
    "        keras_cv.utils.bounding_box.pad_bounding_box_batch_to_shape(\n",
    "            x, [25, images[0].shape[1]]\n",
    "        )\n",
    "        for x in images\n",
    "    ]\n",
    "    return tf.stack(images, axis=0)"
   ]
  },
  {
   "cell_type": "code",
   "execution_count": 4,
   "metadata": {
    "id": "E66ZrOk-T_Wn"
   },
   "outputs": [],
   "source": [
    "y_true = produce_random_data()\n",
    "y_pred = produce_random_data(include_confidence=True)\n",
    "class_ids = list(range(20))"
   ]
  },
  {
   "cell_type": "markdown",
   "metadata": {
    "id": "oIqphW18VM4c"
   },
   "source": [
    "# Gather Performance Numbers\n"
   ]
  },
  {
   "cell_type": "code",
   "execution_count": 5,
   "metadata": {
    "id": "FyfOCSmWVOfR"
   },
   "outputs": [],
   "source": [
    "n_images = [128, 256, 512, 512 + 256, 1024]"
   ]
  },
  {
   "cell_type": "code",
   "execution_count": null,
   "metadata": {
    "id": "3hBubufRUZGw"
   },
   "outputs": [],
   "source": [
    "import time\n",
    "\n",
    "update_state_runtimes = []\n",
    "result_runtimes = []\n",
    "end_to_end_runtimes = []\n",
    "\n",
    "for images in n_images:\n",
    "    y_true = produce_random_data(num_images=images)\n",
    "    y_pred = produce_random_data(num_images=images, include_confidence=True)\n",
    "    metric = coco.COCOMeanAveragePrecision(class_ids)\n",
    "    # warm up\n",
    "    metric.update_state(y_true, y_pred)\n",
    "    metric.result()\n",
    "\n",
    "    start = time.time()\n",
    "    metric.update_state(y_true, y_pred)\n",
    "    update_state_done = time.time()\n",
    "    r = metric.result()\n",
    "    end = time.time()\n",
    "\n",
    "    update_state_runtimes.append(update_state_done - start)\n",
    "    result_runtimes.append(end - update_state_done)\n",
    "    end_to_end_runtimes.append(end - start)\n",
    "\n",
    "    print(\"end_to_end_runtimes\", end_to_end_runtimes)"
   ]
  },
  {
   "cell_type": "markdown",
   "metadata": {
    "id": "1rRnktHTW_Yv"
   },
   "source": [
    "# Generate Plots"
   ]
  },
  {
   "cell_type": "code",
   "execution_count": null,
   "metadata": {
    "id": "9BgYNqSlX5Pn"
   },
   "outputs": [],
   "source": [
    "import matplotlib.pyplot as plt\n",
    "import pandas as pd\n",
    "import seaborn as sns"
   ]
  },
  {
   "cell_type": "code",
   "execution_count": null,
   "metadata": {
    "id": "MyPHURvKW-Mt"
   },
   "outputs": [],
   "source": [
    "data = pd.DataFrame(\n",
    "    {\n",
    "        \"n_images\": n_images,\n",
    "        \"update_state_runtimes\": update_state_runtimes,\n",
    "        \"result_runtimes\": result_runtimes,\n",
    "        \"end_to_end_runtimes\": end_to_end_runtimes,\n",
    "    }\n",
    ")"
   ]
  },
  {
   "cell_type": "markdown",
   "metadata": {
    "id": "RmuNSE9XYMww"
   },
   "source": [
    "## update_state()"
   ]
  },
  {
   "cell_type": "code",
   "execution_count": null,
   "metadata": {
    "id": "Mi0QdJ49WYo_"
   },
   "outputs": [],
   "source": [
    "sns.lineplot(data=data, x=\"n_images\", y=\"update_state_runtimes\")\n",
    "plt.xlabel(\"Number of Images\")\n",
    "plt.ylabel(\"update_state() runtime (seconds)\")\n",
    "plt.title(\"Runtime of update_state()\")\n",
    "plt.show()"
   ]
  },
  {
   "cell_type": "markdown",
   "metadata": {
    "id": "HjjzVZH-YPTu"
   },
   "source": [
    "## result()"
   ]
  },
  {
   "cell_type": "code",
   "execution_count": null,
   "metadata": {
    "id": "7Hbi2rxmYRJJ"
   },
   "outputs": [],
   "source": [
    "sns.lineplot(data=data, x=\"n_images\", y=\"result_runtimes\")\n",
    "plt.xlabel(\"Number of Images\")\n",
    "plt.ylabel(\"result() runtime (seconds)\")\n",
    "plt.title(\"Runtime of result()\")\n",
    "plt.show()"
   ]
  },
  {
   "cell_type": "markdown",
   "metadata": {
    "id": "LmQNdXbKYTt6"
   },
   "source": [
    "# End to End Runs"
   ]
  },
  {
   "cell_type": "code",
   "execution_count": null,
   "metadata": {
    "id": "ftja8-euYYg2"
   },
   "outputs": [],
   "source": [
    "sns.lineplot(data=data, x=\"n_images\", y=\"end_to_end_runtimes\")\n",
    "plt.xlabel(\"Number of Images\")\n",
    "plt.ylabel(\"End to end runtime (seconds)\")\n",
    "plt.title(\"Runtimes of update_state() followed by result()\")\n",
    "plt.show()"
   ]
  }
 ],
 "metadata": {
  "colab": {
   "background_execution": "on",
   "collapsed_sections": [],
   "name": "MaP-performance",
   "provenance": []
  },
  "kernelspec": {
   "display_name": "Python 3",
   "name": "python3"
  },
  "language_info": {
   "name": "python"
  }
 },
 "nbformat": 4,
 "nbformat_minor": 0
}
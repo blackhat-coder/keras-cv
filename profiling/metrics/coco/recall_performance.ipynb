{
 "cells": [
  {
   "cell_type": "markdown",
   "metadata": {
    "id": "Hsa3v3hAUdnq"
   },
   "source": [
    "# Setup\n",
    "First we need to install keras_cv and import any packages we will use."
   ]
  },
  {
   "cell_type": "code",
   "execution_count": 1,
   "metadata": {
    "id": "2Dm1g2h9S1YV"
   },
   "outputs": [],
   "source": [
    "!pip install git+https://github.com/keras-team/keras-cv -q"
   ]
  },
  {
   "cell_type": "code",
   "execution_count": 2,
   "metadata": {
    "id": "A68OHO5mTjdk"
   },
   "outputs": [],
   "source": [
    "import keras_cv\n",
    "from keras_cv.metrics import coco\n",
    "import tensorflow as tf\n",
    "import math\n",
    "import numpy as np\n",
    "import random"
   ]
  },
  {
   "cell_type": "markdown",
   "metadata": {
    "id": "dnhEcJZDVEyX"
   },
   "source": [
    "Next we need to produce random bounding boxes to benchmark against."
   ]
  },
  {
   "cell_type": "code",
   "execution_count": 3,
   "metadata": {
    "id": "pPckFSreToG6"
   },
   "outputs": [],
   "source": [
    "def produce_random_data(include_confidence=False, num_images=128, num_classes=20):\n",
    "    \"\"\"Generates a fake list of bounding boxes for use in this test.\n",
    "\n",
    "    Returns:\n",
    "      a tensor list of size [128, 25, 5/6].  This represents 128 images, 25 bboxes\n",
    "        and 5/6 dimensions to represent each bbox depending on if confidence is\n",
    "        set.\n",
    "    \"\"\"\n",
    "    images = []\n",
    "    for _ in range(num_images):\n",
    "        num_boxes = math.floor(25 * random.uniform(0, 1))\n",
    "        classes = np.floor(np.random.rand(num_boxes, 1) * num_classes)\n",
    "        bboxes = np.random.rand(num_boxes, 4)\n",
    "        boxes = np.concatenate([bboxes, classes], axis=-1)\n",
    "        if include_confidence:\n",
    "            confidence = np.random.rand(num_boxes, 1)\n",
    "            boxes = np.concatenate([boxes, confidence], axis=-1)\n",
    "        images.append(\n",
    "            keras_cv.utils.bounding_box.xywh_to_corners(\n",
    "                tf.constant(boxes, dtype=tf.float32)\n",
    "            )\n",
    "        )\n",
    "\n",
    "    images = [\n",
    "        keras_cv.utils.bounding_box.pad_bounding_box_batch_to_shape(\n",
    "            x, [25, images[0].shape[1]]\n",
    "        )\n",
    "        for x in images\n",
    "    ]\n",
    "    return tf.stack(images, axis=0)"
   ]
  },
  {
   "cell_type": "code",
   "execution_count": 4,
   "metadata": {
    "id": "E66ZrOk-T_Wn"
   },
   "outputs": [],
   "source": [
    "y_true = produce_random_data()\n",
    "y_pred = produce_random_data(include_confidence=True)\n",
    "class_ids = list(range(20))"
   ]
  },
  {
   "cell_type": "markdown",
   "metadata": {
    "id": "oIqphW18VM4c"
   },
   "source": [
    "# Gather Performance Numbers\n"
   ]
  },
  {
   "cell_type": "code",
   "execution_count": 5,
   "metadata": {
    "id": "FyfOCSmWVOfR"
   },
   "outputs": [],
   "source": [
    "n_images = [128, 256, 512, 512 + 256, 1024]"
   ]
  },
  {
   "cell_type": "code",
   "execution_count": 6,
   "metadata": {
    "colab": {
     "base_uri": "https://localhost:8080/"
    },
    "id": "3hBubufRUZGw",
    "outputId": "e6a71b19-5791-45e2-8401-e07430697557"
   },
   "outputs": [
    {
     "output_type": "stream",
     "name": "stdout",
     "text": [
      "end_to_end_runtimes [11.991924047470093]\n",
      "end_to_end_runtimes [11.991924047470093, 10.660876035690308]\n",
      "end_to_end_runtimes [11.991924047470093, 10.660876035690308, 20.445800065994263]\n",
      "end_to_end_runtimes [11.991924047470093, 10.660876035690308, 20.445800065994263, 31.767057418823242]\n",
      "WARNING:tensorflow:5 out of the last 9 calls to <function COCORecall.update_state at 0x7f2ab309dd40> triggered tf.function retracing. Tracing is expensive and the excessive number of tracings could be due to (1) creating @tf.function repeatedly in a loop, (2) passing tensors with different shapes, (3) passing Python objects instead of tensors. For (1), please define your @tf.function outside of the loop. For (2), @tf.function has experimental_relax_shapes=True option that relaxes argument shapes that can avoid unnecessary retracing. For (3), please refer to https://www.tensorflow.org/guide/function#controlling_retracing and https://www.tensorflow.org/api_docs/python/tf/function for  more details.\n",
      "end_to_end_runtimes [11.991924047470093, 10.660876035690308, 20.445800065994263, 31.767057418823242, 41.414693117141724]\n"
     ]
    }
   ],
   "source": [
    "import time\n",
    "\n",
    "update_state_runtimes = []\n",
    "result_runtimes = []\n",
    "end_to_end_runtimes = []\n",
    "\n",
    "for images in n_images:\n",
    "    y_true = produce_random_data(num_images=images)\n",
    "    y_pred = produce_random_data(num_images=images, include_confidence=True)\n",
    "    metric = coco.COCORecall(class_ids)\n",
    "    # warm up\n",
    "    metric.update_state(y_true, y_pred)\n",
    "    metric.result()\n",
    "\n",
    "    start = time.time()\n",
    "    metric.update_state(y_true, y_pred)\n",
    "    update_state_done = time.time()\n",
    "    r = metric.result()\n",
    "    end = time.time()\n",
    "\n",
    "    update_state_runtimes.append(update_state_done - start)\n",
    "    result_runtimes.append(end - update_state_done)\n",
    "    end_to_end_runtimes.append(end - start)\n",
    "\n",
    "    print(\"end_to_end_runtimes\", end_to_end_runtimes)"
   ]
  },
  {
   "cell_type": "markdown",
   "metadata": {
    "id": "1rRnktHTW_Yv"
   },
   "source": [
    "# Generate Plots"
   ]
  },
  {
   "cell_type": "code",
   "execution_count": 7,
   "metadata": {
    "id": "9BgYNqSlX5Pn"
   },
   "outputs": [],
   "source": [
    "import matplotlib.pyplot as plt\n",
    "import pandas as pd\n",
    "import seaborn as sns"
   ]
  },
  {
   "cell_type": "code",
   "execution_count": 8,
   "metadata": {
    "id": "MyPHURvKW-Mt"
   },
   "outputs": [],
   "source": [
    "data = pd.DataFrame(\n",
    "    {\n",
    "        \"n_images\": n_images,\n",
    "        \"update_state_runtimes\": update_state_runtimes,\n",
    "        \"result_runtimes\": result_runtimes,\n",
    "        \"end_to_end_runtimes\": end_to_end_runtimes,\n",
    "    }\n",
    ")"
   ]
  },
  {
   "cell_type": "markdown",
   "metadata": {
    "id": "RmuNSE9XYMww"
   },
   "source": [
    "## update_state()"
   ]
  },
  {
   "cell_type": "code",
   "execution_count": 9,
   "metadata": {
    "colab": {
     "base_uri": "https://localhost:8080/",
     "height": 295
    },
    "id": "Mi0QdJ49WYo_",
    "outputId": "39de699a-7d04-4d29-c075-1410263eab34"
   },
   "outputs": [
    {
     "output_type": "display_data",
     "data": {
      "image/png": "[encoded data removed]",
      "text/plain": [
       "<Figure size 432x288 with 1 Axes>"
      ]
     },
     "metadata": {
      "needs_background": "light"
     }
    }
   ],
   "source": [
    "sns.lineplot(data=data, x=\"n_images\", y=\"update_state_runtimes\")\n",
    "plt.xlabel(\"Number of Images\")\n",
    "plt.ylabel(\"update_state() runtime (seconds)\")\n",
    "plt.title(\"Runtime of update_state()\")\n",
    "plt.show()"
   ]
  },
  {
   "cell_type": "markdown",
   "metadata": {
    "id": "HjjzVZH-YPTu"
   },
   "source": [
    "## result()"
   ]
  },
  {
   "cell_type": "code",
   "execution_count": 10,
   "metadata": {
    "colab": {
     "base_uri": "https://localhost:8080/",
     "height": 295
    },
    "id": "7Hbi2rxmYRJJ",
    "outputId": "c72e5113-ba79-4c06-e32e-306b3cf7d43e"
   },
   "outputs": [
    {
     "output_type": "display_data",
     "data": {
      "image/png": "[encoded data removed]",
      "text/plain": [
       "<Figure size 432x288 with 1 Axes>"
      ]
     },
     "metadata": {
      "needs_background": "light"
     }
    }
   ],
   "source": [
    "sns.lineplot(data=data, x=\"n_images\", y=\"result_runtimes\")\n",
    "plt.xlabel(\"Number of Images\")\n",
    "plt.ylabel(\"result() runtime (seconds)\")\n",
    "plt.title(\"Runtime of result()\")\n",
    "plt.show()"
   ]
  },
  {
   "cell_type": "markdown",
   "metadata": {
    "id": "LmQNdXbKYTt6"
   },
   "source": [
    "# End to End Runs"
   ]
  },
  {
   "cell_type": "code",
   "execution_count": 11,
   "metadata": {
    "colab": {
     "base_uri": "https://localhost:8080/",
     "height": 295
    },
    "id": "ftja8-euYYg2",
    "outputId": "b4381fe5-44d7-46b1-cb45-f2044cd2b343"
   },
   "outputs": [
    {
     "output_type": "display_data",
     "data": {
      "image/png": "[encoded data removed]",
      "text/plain": [
       "<Figure size 432x288 with 1 Axes>"
      ]
     },
     "metadata": {
      "needs_background": "light"
     }
    }
   ],
   "source": [
    "sns.lineplot(data=data, x=\"n_images\", y=\"end_to_end_runtimes\")\n",
    "plt.xlabel(\"Number of Images\")\n",
    "plt.ylabel(\"End to end runtime (seconds)\")\n",
    "plt.title(\"Runtimes of update_state() followed by result()\")\n",
    "plt.show()"
   ]
  }
 ],
 "metadata": {
  "colab": {
   "background_execution": "on",
   "collapsed_sections": [],
   "name": "Recall-performance",
   "provenance": []
  },
  "kernelspec": {
   "display_name": "Python 3",
   "name": "python3"
  },
  "language_info": {
   "name": "python"
  }
 },
 "nbformat": 4,
 "nbformat_minor": 0
}